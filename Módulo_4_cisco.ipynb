{
  "nbformat": 4,
  "nbformat_minor": 0,
  "metadata": {
    "colab": {
      "provenance": [],
      "authorship_tag": "ABX9TyN1jc6tgUiRWwDRj0xGTVum",
      "include_colab_link": true
    },
    "kernelspec": {
      "name": "python3",
      "display_name": "Python 3"
    },
    "language_info": {
      "name": "python"
    }
  },
  "cells": [
    {
      "cell_type": "markdown",
      "metadata": {
        "id": "view-in-github",
        "colab_type": "text"
      },
      "source": [
        "<a href=\"https://colab.research.google.com/github/elyasncr/python_iniciais/blob/main/M%C3%B3dulo_4_cisco.ipynb\" target=\"_parent\"><img src=\"https://colab.research.google.com/assets/colab-badge.svg\" alt=\"Open In Colab\"/></a>"
      ]
    },
    {
      "cell_type": "markdown",
      "source": [
        "4.1.6 RESUMO DA SEÇÃO\n",
        "1. Uma função é um bloco de código que executa uma tarefa específica quando a função é chamada (chamada). Você pode usar funções para tornar seu código reutilizável, melhor organizado e mais legível. As funções podem ter parâmetros e valores de retorno.\n",
        "\n",
        "2. Há pelo menos quatro tipos básicos de funções no Python:\n",
        "\n",
        "incorporadas que são parte integrante do Python (como a função de print()). Você pode ver uma lista completa das funções integradas do Python em https://docs.python.org/3/library/functions.html.\n",
        "os que vêm de módulos pré-instalados (você aprenderá sobre eles no curso Fundamentos do Python 2)\n",
        "funções definidas pelo usuário que são escritas pelos usuários para os usuários - você pode escrever suas próprias funções e usá-las livremente no código,\n",
        "as funções lambda (você aprenderá sobre elas no curso Fundamentos do Python 2.)"
      ],
      "metadata": {
        "id": "SMYByG8UlNy8"
      }
    },
    {
      "cell_type": "markdown",
      "source": [
        "3. Você pode definir sua própria função usando a palavra-chave def e a seguinte sintaxe:"
      ],
      "metadata": {
        "id": "b0QOwAfhlXbr"
      }
    },
    {
      "cell_type": "code",
      "execution_count": null,
      "metadata": {
        "id": "uoNdE6FokYie"
      },
      "outputs": [],
      "source": [
        "def message():    # definindo uma função\n",
        "    print(\"Olá\")    # o corpo da função\n",
        " \n",
        "message()    # chamando a função\n",
        " \n"
      ]
    },
    {
      "cell_type": "markdown",
      "source": [
        "Você pode definir uma função que aceita argumentos, assim como a função de um parâmetro abaixo:"
      ],
      "metadata": {
        "id": "sLS8iOQblb8y"
      }
    },
    {
      "cell_type": "code",
      "source": [
        "def hello(name):    # definindo uma função\n",
        "    print(\"Olá,\", name)    # o corpo da função\n",
        " \n",
        " \n",
        "name = input(\"Entre um valor: \")\n",
        " \n",
        "hello(name)    # chamando a função\n",
        " \n"
      ],
      "metadata": {
        "id": "RHgiyyY7ld92"
      },
      "execution_count": null,
      "outputs": []
    },
    {
      "cell_type": "markdown",
      "source": [
        "4.1.7 TESTE DA SEÇÃO\n"
      ],
      "metadata": {
        "id": "hbJaZWpGlfso"
      }
    },
    {
      "cell_type": "markdown",
      "source": [
        "Pergunta 1: A função input() é um exemplo de a:\n",
        "\n",
        "a) função definida pelo usuário\n",
        "\n",
        "b) função integrada"
      ],
      "metadata": {
        "id": "CV9P1WTsljza"
      }
    },
    {
      "cell_type": "code",
      "source": [],
      "metadata": {
        "id": "5xNwb1CLljPc"
      },
      "execution_count": null,
      "outputs": []
    },
    {
      "cell_type": "markdown",
      "source": [
        "Pergunta 2: O que acontece quando você tenta invocar uma função antes de defini-la? Exemplo:"
      ],
      "metadata": {
        "id": "M5HLYn-nlnjy"
      }
    },
    {
      "cell_type": "code",
      "source": [
        "hi()\n",
        " \n",
        "def hi():\n",
        "    print(\"hi!\")\n",
        " \n"
      ],
      "metadata": {
        "id": "dX1LOAyblphc"
      },
      "execution_count": null,
      "outputs": []
    },
    {
      "cell_type": "markdown",
      "source": [
        "Pergunta 3: O que acontecerá quando você executar o código abaixo?"
      ],
      "metadata": {
        "id": "HEm7DkDrlrH5"
      }
    },
    {
      "cell_type": "code",
      "source": [
        "def hi():\n",
        "    print(\"hi\")\n",
        " \n",
        "hi(5)\n",
        " \n"
      ],
      "metadata": {
        "id": "8ys-oe_xltEw"
      },
      "execution_count": null,
      "outputs": []
    },
    {
      "cell_type": "markdown",
      "source": [
        "4.2.6 RESUMO DA SEÇÃO\n"
      ],
      "metadata": {
        "id": "ePqcoSP6lukt"
      }
    },
    {
      "cell_type": "markdown",
      "source": [
        "1. Você pode passar informações para funções usando parâmetros. Suas funções podem ter quantos parâmetros forem necessários.\n",
        "\n",
        "Um exemplo de função de um parâmetro:"
      ],
      "metadata": {
        "id": "wPt8XlTutqHt"
      }
    },
    {
      "cell_type": "code",
      "source": [
        "def hi(name):\n",
        "    print(\"Oi,\", name)\n",
        " \n",
        "hi(\"Greg\")\n",
        " \n"
      ],
      "metadata": {
        "id": "CJIL4jPxtsIN"
      },
      "execution_count": null,
      "outputs": []
    },
    {
      "cell_type": "markdown",
      "source": [
        "Um exemplo de função de dois parâmetros:"
      ],
      "metadata": {
        "id": "GTX_tiO1tt3Q"
      }
    },
    {
      "cell_type": "code",
      "source": [
        "def hi_all(name_1, name_2):\n",
        "    print(\"Oi,\", name_2)\n",
        "    print(\"Oi,\", name_1)\n",
        " \n",
        "hi_all(\"Sebastian\", \"Konrad\")\n",
        " \n"
      ],
      "metadata": {
        "id": "C2rp1UcitvyU"
      },
      "execution_count": null,
      "outputs": []
    },
    {
      "cell_type": "markdown",
      "source": [
        "Um exemplo de função de três parâmetros:"
      ],
      "metadata": {
        "id": "hpaEwi4Ztx07"
      }
    },
    {
      "cell_type": "code",
      "source": [
        "def address(street, city, postal_code):\n",
        "    print(\"Seu endereço é:\", street, \"St.,\", city, postal_code)\n",
        " \n",
        "s = input(\"Street: \")\n",
        "p_c = input(\"Código postal: \")\n",
        "c = input(\"Cidade: \")\n",
        "address(s, c, p_c)\n",
        " \n"
      ],
      "metadata": {
        "id": "_2ZwXxSst0SY"
      },
      "execution_count": null,
      "outputs": []
    },
    {
      "cell_type": "markdown",
      "source": [
        "2. Você pode passar argumentos para uma função usando as seguintes técnicas:\n",
        "\n",
        "passagem de argumento posicional em que a ordem dos argumentos passou importa (Ex. 1)\n",
        "passagem de argumentos da palavra-chave (nomeada) na qual a ordem dos argumentos passados não importa (ex. 2)\n",
        "uma combinação de passagem de argumento de posição e de palavra-chave (por exemplo, 3.)"
      ],
      "metadata": {
        "id": "KaX8aMy3t2Z8"
      }
    },
    {
      "cell_type": "code",
      "source": [
        "Ex. 1\n",
        "def subtra(a, b):\n",
        "    print(a - b)\n",
        " \n",
        "subtra(5, 2)    # saídas: 3\n",
        "subtra(2, 5)    # saídas: -3\n",
        " \n",
        " \n",
        "Ex. 2\n",
        "def subtra(a, b):\n",
        "    print(a - b)\n",
        " \n",
        "subtra(a=5, b=2)    # saídas: 3\n",
        "subtra(b=2, a=5)    # saídas: 3\n",
        " \n",
        "Ex. 3\n",
        "def subtra(a, b):\n",
        "    print(a - b)\n",
        " \n",
        "subtra(5, b=2)    # saídas: 3\n",
        "subtra(5, 2)    # saídas: 3\n",
        " \n"
      ],
      "metadata": {
        "id": "rK6SV0wIt4xa"
      },
      "execution_count": null,
      "outputs": []
    },
    {
      "cell_type": "markdown",
      "source": [
        "É importante lembrar que argumentos de posição não devem seguir argumentos de palavra-chave. É por isso que, se você tentar executar o seguinte trecho:"
      ],
      "metadata": {
        "id": "52vSWXl8t7ob"
      }
    },
    {
      "cell_type": "code",
      "source": [
        "def subtra(a, b):\n",
        "    print(a - b)\n",
        " \n",
        "subtra(5, b=2)    # saídas: 3\n",
        "subtra(a=5, 2)    # Syntax Error\n",
        " \n"
      ],
      "metadata": {
        "id": "qSiCu9nwt9zY"
      },
      "execution_count": null,
      "outputs": []
    },
    {
      "cell_type": "markdown",
      "source": [
        "O Python não vai deixar e sinalizar um SyntaxError."
      ],
      "metadata": {
        "id": "7wmhF9LjuABd"
      }
    },
    {
      "cell_type": "markdown",
      "source": [
        "3. Você pode usar a técnica de passagem de argumento da palavra-chave para predefinir um valor para um determinado argumento:\n"
      ],
      "metadata": {
        "id": "2PlbvtxUuCi1"
      }
    },
    {
      "cell_type": "code",
      "source": [
        "def name(first_name, last_name=\"Smith\"):\n",
        "    print(first_name, last_name)\n",
        " \n",
        "name(\"Andy\")    # saídas: Andy Smith\n",
        "name(\"Betty\", \"Johnson\")    # saídas: Betty Johnson (the keyword argument replaced by \"Johnson\")\n",
        " \n"
      ],
      "metadata": {
        "id": "DiGdhluNt_sm"
      },
      "execution_count": null,
      "outputs": []
    },
    {
      "cell_type": "markdown",
      "source": [
        "4.2.7 TESTE DA SEÇÃO"
      ],
      "metadata": {
        "id": "nuxjorXluG86"
      }
    },
    {
      "cell_type": "markdown",
      "source": [
        "Pergunta 1: Qual é a saída do trecho de código?"
      ],
      "metadata": {
        "id": "UXdyLcb2uKOQ"
      }
    },
    {
      "cell_type": "code",
      "source": [
        "def intro(a=\"James Bond\", b=\"Bond\"):\n",
        "     print(\"Meu nome é\", b + \".\", a + \".\")\n",
        " \n",
        "intro()\n",
        " \n"
      ],
      "metadata": {
        "id": "SVBsL1y3uL3C"
      },
      "execution_count": null,
      "outputs": []
    },
    {
      "cell_type": "markdown",
      "source": [
        "Pergunta 2: Qual é a saída do trecho de código?"
      ],
      "metadata": {
        "id": "hrUYF3sbuPYj"
      }
    },
    {
      "cell_type": "code",
      "source": [
        "def intro(a=\"James Bond\", b=\"Bond\"):\n",
        "    print(\"Meu nome é\", b + \".\", a + \".\")\n",
        " \n",
        "intro(b=\"Sean Connery\")\n",
        " \n"
      ],
      "metadata": {
        "id": "L6a5nRjfuTLA"
      },
      "execution_count": null,
      "outputs": []
    },
    {
      "cell_type": "markdown",
      "source": [
        "Pergunta 3: Qual é a saída do trecho de código?"
      ],
      "metadata": {
        "id": "sagbqmPCuWi3"
      }
    },
    {
      "cell_type": "code",
      "source": [
        "def intro(a, b=\"Bond\"):\n",
        "    print(\"Meu nome é\", b + \".\", a + \".\")\n",
        " \n",
        "intro(\"Susan\")\n",
        " \n"
      ],
      "metadata": {
        "id": "EqHqYr3guZT5"
      },
      "execution_count": null,
      "outputs": []
    },
    {
      "cell_type": "markdown",
      "source": [
        "Pergunta 4: Qual é a saída do trecho de código?"
      ],
      "metadata": {
        "id": "70KkJS4RuccG"
      }
    },
    {
      "cell_type": "code",
      "source": [
        "def add_numbers(a, b=2, c):\n",
        "    print(a + b + c)\n",
        " \n",
        "add_numbers(a=1, c=3)\n",
        " \n"
      ],
      "metadata": {
        "id": "MU4J421VueQ4"
      },
      "execution_count": null,
      "outputs": []
    },
    {
      "cell_type": "markdown",
      "source": [
        "4.3.4   LAB   Um ano bissexto: escrevendo suas próprias funções\n",
        "Sua tarefa é escrever e testar uma função que usa um argumento (um ano) e retorna True se o ano for um ano bissexto ou False caso contrário.\n",
        "\n",
        "A semente da função já é semeada no código de esqueleto no editor.\n",
        "\n",
        "Nota: também preparamos um código de teste curto, que você pode usar para testar sua função.\n",
        "\n",
        "O código usa duas listas - uma com os dados de teste e a outra contendo os resultados esperados. O código informará se algum dos resultados é inválido."
      ],
      "metadata": {
        "id": "AnniUl-l1GmZ"
      }
    },
    {
      "cell_type": "code",
      "source": [
        "def is_year_leap(year):\n",
        " if year % 4 != 0:\n",
        "    return False\n",
        " elif year % 100 != 0:\n",
        "    return True\n",
        " elif year % 400 != 0:\n",
        "    return False\n",
        " else:\n",
        "    return True\n",
        "\n",
        "test_data = [1900, 2000, 2016, 1987]\n",
        "test_results = [False, True, True, False]\n",
        "for i in range(len(test_data)):\n",
        "    yr = test_data[i]\n",
        "    print(yr,\"-> \",end=\"\")\n",
        "    result = is_year_leap(yr)\n",
        "    if result == test_results[i]:\n",
        "        print(\"OK\")\n",
        "    else:\n",
        "        print(\"Fracassado\")\n"
      ],
      "metadata": {
        "id": "oZ5u6Cja1Hes"
      },
      "execution_count": null,
      "outputs": []
    },
    {
      "cell_type": "markdown",
      "source": [
        "4.3.5   LAB   Quantos dias: escrevendo e usando suas próprias funções\n",
        "Sua tarefa é escrever e testar uma função que usa dois argumentos (um ano e um mês) e retorna o número de dias para o determinado par de ano-mês (embora apenas fevereiro seja sensível ao valor do year, sua função deve ser universal).\n",
        "\n",
        "A parte inicial da função está pronta. Agora, convença a função a não retornar None se os argumentos não fizerem sentido.\n",
        "\n",
        "Obviamente, você pode (e deve) usar a função previamente testada e escrita (LAB 4.3.1.6). Pode ser muito útil. Recomendamos que você use uma lista com os comprimentos dos meses. Você pode criá-lo dentro da função - esse truque diminuirá significativamente o código.\n",
        "\n",
        "Preparamos um código de teste. Expanda-o para incluir mais casos de teste."
      ],
      "metadata": {
        "id": "xTR27MId1Ksn"
      }
    },
    {
      "cell_type": "code",
      "source": [
        "def is_year_leap(year):\n",
        " if year % 4 != 0:\n",
        "    return False\n",
        " elif year % 100 != 0:\n",
        "    return True\n",
        " elif year % 400 != 0:\n",
        "    return False\n",
        " else:\n",
        "    return True\n",
        "\n",
        "def days_in_month(year,month):\n",
        "    if year < 1582 or month < 1 or month > 12:\n",
        "        return None\n",
        "    days = [31, 28, 31, 30, 31, 30, 31, 31, 30, 31, 30, 31]\n",
        "    res = days[month - 1]\n",
        "    if month == 2 and is_year_leap(year):\n",
        "        res = 29\n",
        "    return res\n",
        "\n",
        "test_years = [1900, 2000, 2016, 1987]\n",
        "test_months = [ 2, 2, 1, 11]\n",
        "test_results = [28, 29, 31, 30]\n",
        "for i in range(len(test_years)):\n",
        "    yr = test_years[i]\n",
        "    mo = test_months[i]\n",
        "    print(yr,mo,\"-> \",end=\"\")\n",
        "    result = days_in_month(yr, mo)\n",
        "    if result == test_results[i]:\n",
        "        print(\"OK\")\n",
        "    else:\n",
        "        print(\"Fracassado\")\n"
      ],
      "metadata": {
        "id": "2UUC4UDm1N1G"
      },
      "execution_count": null,
      "outputs": []
    },
    {
      "cell_type": "markdown",
      "source": [
        "4.3.6   LAB   Dia do ano: escrevendo e usando funções\n",
        "Sua tarefa é escrever e testar uma função que usa três argumentos (um ano, um mês e um dia do mês) e retorna o dia correspondente do ano ou retorna None se algum dos argumentos for inválido.\n",
        "\n",
        "Use as funções escritas e testadas anteriormente. Adicione seus próprios casos de teste ao código."
      ],
      "metadata": {
        "id": "Tb-djGiX1ul4"
      }
    },
    {
      "cell_type": "code",
      "source": [
        "def is_year_leap(year):\n",
        "    if year % 4 != 0:\n",
        "        return False\n",
        "    elif year % 100 != 0:\n",
        "        return True\n",
        "    elif year % 400 != 0:\n",
        "        return False\n",
        "    else:\n",
        "        return True\n",
        "\n",
        "def days_in_month(year, month):\n",
        "    if year < 1582 or month < 1 or month > 12:\n",
        "        return None\n",
        "    days = [31, 28, 31, 30, 31, 30, 31, 31, 30, 31, 30, 31]\n",
        "    res = days[month - 1]\n",
        "    if month == 2 and is_year_leap(year):\n",
        "        res = 29\n",
        "        return res\n",
        "\n",
        "def day_of_year(year, month, day):\n",
        "    days = 0\n",
        "    for m in range(1, month):\n",
        "        md = days_in_month(year, m)\n",
        "        if md == None:\n",
        "            return None\n",
        "    days += md\n",
        "    md = days_in_month(year, month)\n",
        "    if day >= 1 and day <= md:\n",
        "        return days + day\n",
        "    else:\n",
        "        return None\n",
        "\n",
        "print(day_of_year(2000, 12, 31))\n"
      ],
      "metadata": {
        "id": "h38dQyXY1xnk"
      },
      "execution_count": null,
      "outputs": []
    },
    {
      "cell_type": "markdown",
      "source": [
        "4.3.7   LAB   Números primos ‒ como encontrá-los\n",
        "Um número natural é primo se for maior que 1 e não tiver divisores diferentes de 1 e ele próprio.\n",
        "\n",
        "Complicado? Não mesmo. Por exemplo, 8 não é um número primo, pois você pode dividi-lo por 2 e 4 (não podemos usar divisores iguais a 1 e 8, pois a definição proíbe isso).\n",
        "\n",
        "Por outro lado, 7 é um número primo, pois não podemos encontrar divisores legais para ele.\n",
        "\n",
        "Sua tarefa é escrever uma função verificando se um número é primo ou não.\n",
        "\n",
        "A função:\n",
        "\n",
        "é chamado is_prime;\n",
        "requer um argumento (o valor a ser verificado)\n",
        "retorna True se o argumento for um número primo e False caso contrário.\n",
        "Dica: tente dividir o argumento por todos os valores subsequentes (começando em 2) e verifique o restante - se for zero, seu número não pode ser um primo; pense bem quando deve interromper o processo.\n",
        "\n",
        "Se você precisar conhecer a raiz quadrada de qualquer valor, poderá utilizar o operador **. Lembre-se: a raiz quadrada de x é o mesmo que x0.5\n",
        "\n",
        "Preencha o código no editor.\n",
        "\n",
        "Execute o código e verifique se a saída é igual à nossa.\n",
        "\n",
        "Saída prevista:\n",
        "\n",
        "2 3 5 7 11 13 17 19"
      ],
      "metadata": {
        "id": "L3i3VTsR2pf8"
      }
    },
    {
      "cell_type": "code",
      "source": [
        "def is_prime(num):\n",
        "    for i in range(2, int(1 + num ** 0.5)):\n",
        "        if num % i == 0:\n",
        "            return False\n",
        "        return True\n",
        "\n",
        "for i in range(1, 20):\n",
        "    if is_prime(i + 1):\n",
        "        print(i + 1, end=\" \")\n",
        "        print()\n"
      ],
      "metadata": {
        "id": "X5X9l5xd2tsc"
      },
      "execution_count": null,
      "outputs": []
    },
    {
      "cell_type": "markdown",
      "source": [
        "4.3.8   LAB   Convertendo o consumo de combustível\n",
        "O consumo de combustível de um carro pode ser expresso de várias maneiras diferentes. Por exemplo, na Europa, ele é mostrado como a quantidade de combustível consumida por 100 quilômetros.\n",
        "\n",
        "Nos EUA, é mostrado como o número de quilômetros percorridos por um carro usando um litro de combustível.\n",
        "\n",
        "Sua tarefa é escrever um par de funções convertendo l/100 km em mpg e vice-versa.\n",
        "\n",
        "As funções:\n",
        "\n",
        "são nomeados liters_100km_to_miles_gallon e miles_gallon_to_liters_100km respectivamente;\n",
        "use um argumento (o valor correspondente aos nomes)\n",
        "Preencha o código no editor e execute-o para verificar se a sua saída é igual à nossa.\n",
        "\n",
        "Aqui estão algumas informações para ajudá-lo:\n",
        "\n",
        "1 milha americana = 1609.344 metros;\n",
        "1 galão americano = 3,785411784 litros.\n",
        "Saída prevista:\n",
        "\n",
        "60.31143162393162\n",
        "31.36194444444444\n",
        "23.52145833333333\n",
        "3.9007393587617467\n",
        "7.490910297239916\n",
        "10.009131205673757"
      ],
      "metadata": {
        "id": "-wij5xAu3KLR"
      }
    },
    {
      "cell_type": "code",
      "source": [
        "# 1 American mile = 1609.344 metres\n",
        "# 1 American gallon = 3.785411784 litres\n",
        "\n",
        "def liters_100km_to_miles_gallon(litres):\n",
        "    gallons = litres / 3.785411784\n",
        "    miles = 100 * 1000 / 1609.344\n",
        "    return miles / gallons\n",
        "\n",
        "def miles_gallon_to_liters_100km(miles):\n",
        "    km100 = miles * 1609.344 / 1000 / 100\n",
        "    litres = 3.785411784\n",
        "    return litres / km100\n",
        "\n",
        "print(liters_100km_to_miles_gallon(3.9))\n",
        "print(liters_100km_to_miles_gallon(7.5))\n",
        "print(liters_100km_to_miles_gallon(10.))\n",
        "print(miles_gallon_to_liters_100km(60.3))\n",
        "print(miles_gallon_to_liters_100km(31.4))\n",
        "print(miles_gallon_to_liters_100km(23.5))\n"
      ],
      "metadata": {
        "id": "51AZO9n53LEn"
      },
      "execution_count": null,
      "outputs": []
    },
    {
      "cell_type": "markdown",
      "source": [
        "4.3.9 RESUMO DA SEÇÃO\n"
      ],
      "metadata": {
        "id": "at36tHI13U3m"
      }
    },
    {
      "cell_type": "markdown",
      "source": [
        "1. Você pode usar a palavra-chave return para informar uma função para retornar algum valor. A declaração de return sai da função, por exemplo:"
      ],
      "metadata": {
        "id": "fKfH7dFa3YTo"
      }
    },
    {
      "cell_type": "code",
      "source": [
        "def multiply(a, b):\n",
        "    return a * b\n",
        " \n",
        "print(multiply(3, 4))    # saídas: 12\n",
        " \n",
        " \n",
        "def multiply(a, b):\n",
        "    return\n",
        " \n",
        "print(multiply(3, 4))    # saídas: None\n",
        " \n"
      ],
      "metadata": {
        "id": "R60uBvsX3Z_C"
      },
      "execution_count": null,
      "outputs": []
    },
    {
      "cell_type": "markdown",
      "source": [
        "2. O resultado de uma função pode ser facilmente atribuído a uma variável, por exemplo:"
      ],
      "metadata": {
        "id": "aJLM4K1O3cXj"
      }
    },
    {
      "cell_type": "code",
      "source": [
        "def wishes():\n",
        "    return \"Feliz aniversário!\n",
        " \n",
        "w = wishes()\n",
        " \n",
        "print(w)    # saídas: Feliz aniversário!\n",
        " \n"
      ],
      "metadata": {
        "id": "7UzJKGG63fdD"
      },
      "execution_count": null,
      "outputs": []
    },
    {
      "cell_type": "markdown",
      "source": [
        "Veja a diferença de saída nos dois exemplos a seguir:"
      ],
      "metadata": {
        "id": "ZoeFyEDP3fCU"
      }
    },
    {
      "cell_type": "code",
      "source": [
        "# Exemplo 1\n",
        "def wishes():\n",
        "    print(\"Meus desejos\")\n",
        "    return \"Feliz aniversário!\"\n",
        " \n",
        "wishes()    # saídas: Meus desejos\n",
        " \n",
        " \n",
        "# Exemplo \n",
        "def wishes():\n",
        "    print(\"Meus desejos\")\n",
        "    return \"Feliz aniversário!\"\n",
        " \n",
        "print(wishes())\n",
        " \n",
        "# saídas: Meus desejos\n",
        "#          Feliz aniversário!\n",
        " \n"
      ],
      "metadata": {
        "id": "kFhuoFj63jmj"
      },
      "execution_count": null,
      "outputs": []
    },
    {
      "cell_type": "markdown",
      "source": [
        "3. Você pode usar uma lista como argumento de função, por exemplo:"
      ],
      "metadata": {
        "id": "BjA9kChA3jUD"
      }
    },
    {
      "cell_type": "code",
      "source": [
        "def hi_everybody(my_list):\n",
        "    for name in my_list:\n",
        "   \"woda\": \"água\",\n",
        "        print(\"Oi,\", name)\n",
        " \n",
        "hi_everybody([\"Adão\", \"John\", \"Lucy\"])\n",
        " \n"
      ],
      "metadata": {
        "id": "mGGs_Tst3z2w"
      },
      "execution_count": null,
      "outputs": []
    },
    {
      "cell_type": "markdown",
      "source": [
        "4. Uma lista também pode ser um resultado de função, por exemplo:"
      ],
      "metadata": {
        "id": "sN6IpxpF310J"
      }
    },
    {
      "cell_type": "code",
      "source": [
        "def create_list(n):\n",
        "    my_list = []\n",
        "    for i in range(n):\n",
        "        my_list.append(i)\n",
        "    return my_list\n",
        " \n",
        "print(create_list(5))\n",
        " \n"
      ],
      "metadata": {
        "id": "UmwWoOmv34YI"
      },
      "execution_count": null,
      "outputs": []
    },
    {
      "cell_type": "markdown",
      "source": [
        "4.3.10 TESTE DA SEÇÃO\n"
      ],
      "metadata": {
        "id": "cM-Zyn8r4UCz"
      }
    },
    {
      "cell_type": "markdown",
      "source": [
        "Pergunta 1: Qual é a saída do trecho de código?"
      ],
      "metadata": {
        "id": "AQ6IQ4Cc4Wzj"
      }
    },
    {
      "cell_type": "code",
      "source": [
        "def hi():\n",
        "    return\n",
        "    print(\"Oi!\")\n",
        " \n",
        "hi()\n",
        " \n"
      ],
      "metadata": {
        "id": "sP0ISNiu4Zsp"
      },
      "execution_count": null,
      "outputs": []
    },
    {
      "cell_type": "markdown",
      "source": [
        "Pergunta 2: Qual é a saída do trecho de código?"
      ],
      "metadata": {
        "id": "v1_Q5U4J4bjQ"
      }
    },
    {
      "cell_type": "code",
      "source": [
        "def is_int(data):\n",
        "    if type(data) == int:\n",
        "        return True\n",
        "    elif type(data) == float:\n",
        "        return False\n",
        " \n",
        "print(is_int(5))\n",
        "print(is_int(5.0))\n",
        "print(is_int(\"5\"))\n",
        " \n"
      ],
      "metadata": {
        "id": "Wa8jt3nE4feU"
      },
      "execution_count": null,
      "outputs": []
    },
    {
      "cell_type": "markdown",
      "source": [
        "Pergunta 3: Qual é a saída do trecho de código?"
      ],
      "metadata": {
        "id": "vy4Gj3AP4hOc"
      }
    },
    {
      "cell_type": "code",
      "source": [
        "def even_num_lst(ran):\n",
        "    lst = []\n",
        "    for num in range(ran):\n",
        "        if num % 2 == 0:\n",
        "            lst.append(num)\n",
        "    return lst\n",
        " \n",
        "print(even_num_lst(11))\n",
        " \n"
      ],
      "metadata": {
        "id": "jPulCkI54kCT"
      },
      "execution_count": null,
      "outputs": []
    },
    {
      "cell_type": "markdown",
      "source": [
        "Pergunta 4: Qual é a saída do trecho de código?"
      ],
      "metadata": {
        "id": "Vi7rsCSI4mh2"
      }
    },
    {
      "cell_type": "code",
      "source": [
        "def list_updater(lst):\n",
        "    upd_list = []\n",
        "    for elem in lst:\n",
        "        elem **= 2\n",
        "        upd_list.append(elem)\n",
        "    return upd_list\n",
        " \n",
        "foo = [1, 2, 3, 4, 5]\n",
        "print(list_updater(foo))\n",
        " \n"
      ],
      "metadata": {
        "id": "GoaxCTqi4o2d"
      },
      "execution_count": null,
      "outputs": []
    },
    {
      "cell_type": "markdown",
      "source": [
        "4.4.4 RESUMO DA SEÇÃO\n"
      ],
      "metadata": {
        "id": "cdEpplCB4qbX"
      }
    },
    {
      "cell_type": "markdown",
      "source": [
        "1. Uma variável que existe fora de uma função tem escopo dentro do corpo da função (exemplo 1), a menos que a função defina uma variável com o mesmo nome (exemplo 2 e exemplo 3), por exemplo:\n",
        "\n",
        "Exemplo 1:"
      ],
      "metadata": {
        "id": "rUIGGCvc-L3P"
      }
    },
    {
      "cell_type": "code",
      "source": [
        "var = 2\n",
        " \n",
        " \n",
        "def mult_by_var(x):\n",
        "    return x * var\n",
        " \n",
        " \n",
        "print(mult_by_var(7))    # saídas: 14\n",
        " \n"
      ],
      "metadata": {
        "id": "iF0Wag-u-P2M"
      },
      "execution_count": null,
      "outputs": []
    },
    {
      "cell_type": "markdown",
      "source": [
        "Exemplo 2:"
      ],
      "metadata": {
        "id": "uJgHgZ8V-SfH"
      }
    },
    {
      "cell_type": "code",
      "source": [
        "def mult(x):\n",
        "    var = 5\n",
        "    return x * var\n",
        " \n",
        " \n",
        "print(mult(7))    # saídas: 35\n",
        " \n"
      ],
      "metadata": {
        "id": "z3Y5aZss-VCE"
      },
      "execution_count": null,
      "outputs": []
    },
    {
      "cell_type": "markdown",
      "source": [
        "Exemplo 3:"
      ],
      "metadata": {
        "id": "hciszzX--YC9"
      }
    },
    {
      "cell_type": "code",
      "source": [
        "def mult(x):\n",
        "    var = 7\n",
        "    return x * var\n",
        " \n",
        " \n",
        "var = 3\n",
        "print(mult(7))    # saídas: 49\n",
        " \n"
      ],
      "metadata": {
        "id": "_yevIxjY-d3x"
      },
      "execution_count": null,
      "outputs": []
    },
    {
      "cell_type": "markdown",
      "source": [
        "2. Uma variável que existe dentro de uma função tem escopo dentro do corpo da função (exemplo 4), por exemplo:\n",
        "\n",
        "Exemplo 4:"
      ],
      "metadata": {
        "id": "5wKCwSMI-fvc"
      }
    },
    {
      "cell_type": "code",
      "source": [
        "def adding(x):\n",
        "    var = 7\n",
        "    return x + var\n",
        " \n",
        " \n",
        "print(adding(4))    # saídas: 11\n",
        "print(var)    # NameError\n",
        " \n"
      ],
      "metadata": {
        "id": "RXaI193x-s2o"
      },
      "execution_count": null,
      "outputs": []
    },
    {
      "cell_type": "markdown",
      "source": [
        "3. Você pode usar a palavra-chave global seguida por um nome de variável para tornar o escopo da variável global, por exemplo:\n",
        "\n"
      ],
      "metadata": {
        "id": "VsnbX1R4-u5w"
      }
    },
    {
      "cell_type": "code",
      "source": [
        "var = 2\n",
        "print(var)    # saídas: 2\n",
        " \n",
        " \n",
        "def return_var():\n",
        "    global var\n",
        "    var = 5\n",
        "    return var\n",
        " \n",
        " \n",
        "print(return_var())    # saídas: 5\n",
        "print(var)    # saídas: 5\n",
        " \n"
      ],
      "metadata": {
        "id": "R7YrR8U--w7E"
      },
      "execution_count": null,
      "outputs": []
    },
    {
      "cell_type": "markdown",
      "source": [
        "4.4.5 TESTE DA SEÇÃO\n"
      ],
      "metadata": {
        "id": "0dhZybCt-z3T"
      }
    },
    {
      "cell_type": "markdown",
      "source": [
        "Pergunta 1: Qual é a saída do trecho de código?"
      ],
      "metadata": {
        "id": "USPmwoN8-38d"
      }
    },
    {
      "cell_type": "code",
      "source": [
        "def message():\n",
        "    alt = 1\n",
        "    print(\"Olá Mundo!\")\n",
        " \n",
        " \n",
        "print(alt)\n",
        " \n"
      ],
      "metadata": {
        "id": "oSYMS1HH-3iM"
      },
      "execution_count": null,
      "outputs": []
    },
    {
      "cell_type": "markdown",
      "source": [
        "Pergunta 2: Qual é a saída do trecho de código?"
      ],
      "metadata": {
        "id": "GtzTCg2Z-8ka"
      }
    },
    {
      "cell_type": "code",
      "source": [
        "a = 1\n",
        " \n",
        " \n",
        "def fun():\n",
        "    a = 2\n",
        "    print(a)\n",
        " \n",
        " \n",
        "fun()\n",
        "print(a)\n",
        " \n"
      ],
      "metadata": {
        "id": "BkThEMOe-_yG"
      },
      "execution_count": null,
      "outputs": []
    },
    {
      "cell_type": "markdown",
      "source": [
        "Pergunta 3: Qual é a saída do trecho de código?"
      ],
      "metadata": {
        "id": "vSMopFfC_CG9"
      }
    },
    {
      "cell_type": "code",
      "source": [
        "a = 1\n",
        " \n",
        " \n",
        "def fun():\n",
        "    global a\n",
        "    a = 2\n",
        "    print(a)\n",
        " \n",
        " \n",
        "fun()\n",
        "a = 3\n",
        "print(a)\n",
        " \n"
      ],
      "metadata": {
        "id": "Bw1JtZMK_FwB"
      },
      "execution_count": null,
      "outputs": []
    },
    {
      "cell_type": "markdown",
      "source": [
        "Pergunta 4: Qual é a saída do trecho de código?"
      ],
      "metadata": {
        "id": "0H-Ev06y_IBP"
      }
    },
    {
      "cell_type": "code",
      "source": [
        "a = 1\n",
        " \n",
        " \n",
        "def fun():\n",
        "    global a\n",
        "    a = 2\n",
        "    print(a)\n",
        " \n",
        " \n",
        "a = 3\n",
        "fun()\n",
        "print(a)\n",
        " \n"
      ],
      "metadata": {
        "id": "VjTo0Q9O_LVt"
      },
      "execution_count": null,
      "outputs": []
    },
    {
      "cell_type": "markdown",
      "source": [
        "4.5.5 Recursão\n",
        "Queremos mostrar mais uma coisa para tornar tudo completo: a recursão.\n",
        "\n",
        "Esse termo pode descrever muitos conceitos diferentes, mas um deles é especialmente interessante - o referente à programação de computadores.\n",
        "\n",
        "Nesse campo, a recursão é uma técnica em que uma função se chama.\n",
        "\n",
        "Esses dois casos parecem ser os melhores para ilustrar o fenômeno - fatoriais e números de Fibonacci. Especialmente o último.\n",
        "\n",
        "A definição dos números de Fibonacci é um exemplo claro de recursão. Já falamos a você que:\n",
        "\n",
        "Fib i = Fib i-1 + Fib i-2\n",
        "\n",
        "A definição do i-ésimo número refere-se ao número i-1, e assim por diante, até que você atinja os dois primeiros.\n",
        "\n",
        "Isso pode ser usado no código? Sim, pode. Também pode tornar o código mais curto e claro.\n",
        "\n",
        "A segunda versão da nossa função fib() faz uso direto dessa definição:"
      ],
      "metadata": {
        "id": "XucjyULv_YYN"
      }
    },
    {
      "cell_type": "code",
      "source": [
        "def fib(n):\n",
        "    if n < 1:\n",
        "        return None\n",
        "    if n < 3:\n",
        "        return 1\n",
        "    return fib(n - 1) + fib(n - 2)\n",
        " \n"
      ],
      "metadata": {
        "id": "1vV_0M7r_1VA"
      },
      "execution_count": null,
      "outputs": []
    },
    {
      "cell_type": "markdown",
      "source": [
        "O código é muito mais claro agora.\n",
        "\n",
        "Mas é realmente seguro? Isso implica algum risco?\n",
        "\n",
        "Sim, há um pouco de risco. Se você esquecer de considerar as condições que podem interromper a cadeia de invocações recursivas, o programa pode inserir um loop infinito. Você tem que ter cuidado.\n",
        "\n",
        "O fatorial tem um segundo lado recursivo também. Veja:\n",
        "\n",
        "n! = 1 × 2 × 3 × ... × n-1 × n\n",
        "\n",
        "É óbvio que:\n",
        "\n",
        "1 × 2 × 3 × ... × n-1 = (n-1)!\n",
        "\n",
        "Então, finalmente, o resultado é:\n",
        "\n",
        "n! = (n-1)! × n\n",
        "\n",
        "Na verdade, essa é uma receita pronta para a nossa nova solução.\n",
        "Aqui está:"
      ],
      "metadata": {
        "id": "w3Xvhr4M_20J"
      }
    },
    {
      "cell_type": "code",
      "source": [
        "def factorial_function(n):\n",
        "    if n < 0:\n",
        "        return None\n",
        "    if n < 2:\n",
        "        return 1\n",
        "    return n * factorial_function(n - 1)\n",
        " \n"
      ],
      "metadata": {
        "id": "nMKM3HBz_68g"
      },
      "execution_count": null,
      "outputs": []
    },
    {
      "cell_type": "markdown",
      "source": [
        "Funcionou? Sim, viola. Experimente.\n",
        "\n",
        "Nossa curta jornada funcional está quase no fim. A próxima seção tratará de dois tipos de dados Python curiosos: tuplas e dicionários."
      ],
      "metadata": {
        "id": "s8FpkMTy_-Iq"
      }
    },
    {
      "cell_type": "code",
      "source": [
        "def fib(n):\n",
        "    if n < 1:\n",
        "        return None\n",
        "    if n < 3:\n",
        "        return 1\n",
        "\n",
        "    elem_1 = elem_2 = 1\n",
        "    the_sum = 0\n",
        "    for i in range(3, n + 1):\n",
        "        the_sum = elem_1 + elem_2\n",
        "        elem_1, elem_2 = elem_2, the_sum\n",
        "    return the_sum\n",
        "\n",
        "\n",
        "for n in range(1, 10):\n",
        "    print(n, \"->\", fib(n))\n"
      ],
      "metadata": {
        "id": "st4glSnWABTe"
      },
      "execution_count": null,
      "outputs": []
    },
    {
      "cell_type": "markdown",
      "source": [
        "4.5.6 RESUMO DA SEÇÃO\n"
      ],
      "metadata": {
        "id": "q5b2NF3NASHH"
      }
    },
    {
      "cell_type": "markdown",
      "source": [
        "1. Uma função pode chamar outras funções, ou até mesmo ela mesma. Quando uma função se chama, essa situação é conhecida como recursão, e a função que se chama e contém uma condição de terminação específica (ou seja, o caso base - uma condição que não diz à função para fazer chamadas adicionais para essa função) é chamado de função recursiva.\n",
        "\n",
        "2. Você pode usar funções recursivas no Python para escrever um código limpo e elegante e dividi-lo em pedaços menores e organizados. Por outro lado, você precisa ter muito cuidado, pois pode ser fácil cometer um erro e criar uma função que nunca termina. Você também precisa se lembrar que as chamadas recursivas consomem muita memória e, portanto, às vezes podem ser ineficientes.\n",
        "\n",
        "Ao usar a recursão, você precisa levar em consideração todas as vantagens e desvantagens.\n",
        "\n",
        "A função fatorial é um exemplo clássico de como o conceito de recursão pode ser colocado em prática:"
      ],
      "metadata": {
        "id": "cCBP4R7tAYVd"
      }
    },
    {
      "cell_type": "code",
      "source": [
        "# Implementação recursiva da função fatorial.\n",
        " \n",
        "def factorial(n):\n",
        "    if n == 1:    # O caso base (condição de rescisão).\n",
        "        return 1\n",
        "    else:\n",
        "        return n * factorial(n - 1)\n",
        " \n",
        " \n",
        "print(factorial(4)) # 4 * 3 * 2 * 1 = 24\n",
        " \n"
      ],
      "metadata": {
        "id": "AVN89rA3AS0_"
      },
      "execution_count": null,
      "outputs": []
    },
    {
      "cell_type": "markdown",
      "source": [
        "4.5.7 TESTE DA SEÇÃO\n"
      ],
      "metadata": {
        "id": "RuBMKz8RAbgz"
      }
    },
    {
      "cell_type": "markdown",
      "source": [
        "Pergunta 1: O que irá acontecer se você tentar rodar o trecho de código a seguir e porque?"
      ],
      "metadata": {
        "id": "WOUcJZZjAh3X"
      }
    },
    {
      "cell_type": "code",
      "source": [
        "def factorial(n):\n",
        "    return n * factorial(n - 1)\n",
        " \n",
        " \n",
        "print(factorial(4))\n",
        " \n"
      ],
      "metadata": {
        "id": "DTQPyVGgAiV5"
      },
      "execution_count": null,
      "outputs": []
    },
    {
      "cell_type": "markdown",
      "source": [
        "Pergunta 2: Qual é a saída do trecho de código?"
      ],
      "metadata": {
        "id": "Jnh5QOWnAkhX"
      }
    },
    {
      "cell_type": "code",
      "source": [
        "def fun(a):\n",
        "    if a > 30:\n",
        "        return 3\n",
        "    else:\n",
        "        return a + fun(a + 3)\n",
        " \n",
        " \n",
        "print(fun(25))\n",
        " \n"
      ],
      "metadata": {
        "id": "pPHhAD_bAnFX"
      },
      "execution_count": null,
      "outputs": []
    },
    {
      "cell_type": "markdown",
      "source": [],
      "metadata": {
        "id": "nscYI_SpAqlA"
      }
    }
  ]
}