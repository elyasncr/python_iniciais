{
  "nbformat": 4,
  "nbformat_minor": 0,
  "metadata": {
    "colab": {
      "provenance": [],
      "authorship_tag": "ABX9TyMDEsJOqyYTYgvImhbq/SmY",
      "include_colab_link": true
    },
    "kernelspec": {
      "name": "python3",
      "display_name": "Python 3"
    },
    "language_info": {
      "name": "python"
    }
  },
  "cells": [
    {
      "cell_type": "markdown",
      "metadata": {
        "id": "view-in-github",
        "colab_type": "text"
      },
      "source": [
        "<a href=\"https://colab.research.google.com/github/elyasncr/python_iniciais/blob/main/CiscoAulas3.ipynb\" target=\"_parent\"><img src=\"https://colab.research.google.com/assets/colab-badge.svg\" alt=\"Open In Colab\"/></a>"
      ]
    },
    {
      "cell_type": "code",
      "execution_count": null,
      "metadata": {
        "id": "GtDh7tc9cnJw"
      },
      "outputs": [],
      "source": [
        "year = int(input(\"Digite um ano: \"))\n",
        "\n",
        "if year < 1582:\n",
        " print(\"Não dentro do período do calendário gregoriano\")\n",
        "else:\n",
        "   if year % 4 != 0:\n",
        "     print(\"ano comum\")\n",
        "   elif year % 100 != 0:\n",
        "     print(\"Ano bissexto\")\n",
        "   elif year % 400 != 0:\n",
        "     print(\"ano comum\")\n",
        "   else:\n",
        "     print(\"Ano bissexto\") \n",
        " "
      ]
    },
    {
      "cell_type": "markdown",
      "source": [],
      "metadata": {
        "id": "P0Bw2K03c7vg"
      }
    },
    {
      "cell_type": "code",
      "source": [
        "income = float(input(\"Entre com os rendimentos \"))\n",
        "\n",
        "if income < 85528:\n",
        "tax = income * 0.18 - 556.02\n",
        "# Escrever o resto do código aqui.\n",
        "tax = round(tax, 0\n",
        ")\n",
        "\n",
        "print(\n",
        " \"A taxa é:\", tax, \"thalers\")\n",
        "\n",
        "\n"
      ],
      "metadata": {
        "id": "TnMRHVhWc7XR"
      },
      "execution_count": null,
      "outputs": []
    },
    {
      "cell_type": "markdown",
      "source": [
        "Pergunta 1: Crie um loop for com contagem de 0 a 10 e imprima números ímpares na tela. Use o esqueleto abaixo:"
      ],
      "metadata": {
        "id": "meD_8uG9c_YU"
      }
    },
    {
      "cell_type": "code",
      "source": [
        "for i in range(0, 11):\n",
        "    if i % 2 != 0:\n",
        "        print(i)"
      ],
      "metadata": {
        "id": "Gju9erVoc_vx"
      },
      "execution_count": null,
      "outputs": []
    },
    {
      "cell_type": "markdown",
      "source": [
        "Pergunta 2: Crie um loop while que conta de 0 a 10 e imprime números ímpares na tela. Use o esqueleto abaixo:"
      ],
      "metadata": {
        "id": "SQ4bh00gkBqo"
      }
    },
    {
      "cell_type": "code",
      "source": [
        "x = 1\n",
        "while x < 11:\n",
        "    if x % 2 != 0:\n",
        "        print(x)\n",
        "    x += 1"
      ],
      "metadata": {
        "id": "vxnfi8UakEZi"
      },
      "execution_count": null,
      "outputs": []
    },
    {
      "cell_type": "markdown",
      "source": [
        "Pergunta 3: Crie um programa com um loop for e uma declaração de break. O programa deve iterar os caracteres em um endereço de e-mail, sair do loop quando atingir o símbolo @ e imprimir a peça antes de @ em uma linha. Use o esqueleto abaixo:"
      ],
      "metadata": {
        "id": "wkdhTQoSkHXU"
      }
    },
    {
      "cell_type": "code",
      "source": [
        "for ch in \"john.smith@pythoninstitute.org\":\n",
        "    if ch == \"@\":\n",
        "        break\n",
        "    print(ch, end=\"\")\n"
      ],
      "metadata": {
        "id": "VTrwA_z-kH9p"
      },
      "execution_count": null,
      "outputs": []
    },
    {
      "cell_type": "markdown",
      "source": [
        "Pergunta 4: Crie um programa com um loop for e uma declaração continue. O programa deve repetir uma sequência de dígitos, substituir cada 0 por x e imprimir a sequência modificada na tela. Use o esqueleto abaixo:"
      ],
      "metadata": {
        "id": "0p3qTpMDkN4L"
      }
    },
    {
      "cell_type": "code",
      "source": [
        "for digit in \"0165031806510\":\n",
        "    if digit == \"0\":\n",
        "        print(\"x\", end=\"\")\n",
        "        continue\n",
        "    print(digit, end=\"\")\n"
      ],
      "metadata": {
        "id": "UIaHqtIqkQLu"
      },
      "execution_count": null,
      "outputs": []
    },
    {
      "cell_type": "markdown",
      "source": [
        "Pergunta 5: Qual é a saída do código a seguir?"
      ],
      "metadata": {
        "id": "cA9KxHKxkTKj"
      }
    },
    {
      "cell_type": "code",
      "source": [
        "n = 3\n",
        " \n",
        "while n > 0:\n",
        "    print(n + 1)\n",
        "    n -= 1\n",
        "else:\n",
        "    print(n)"
      ],
      "metadata": {
        "id": "-zz-M775kV7j"
      },
      "execution_count": null,
      "outputs": []
    },
    {
      "cell_type": "markdown",
      "source": [
        "Pergunta 6: Qual é a saída do código a seguir?"
      ],
      "metadata": {
        "id": "a733-erbkhrk"
      }
    },
    {
      "cell_type": "code",
      "source": [
        "n = range(4)\n",
        " \n",
        "for num in n:\n",
        "    print(num - 1)\n",
        "else:\n",
        "    print(num)"
      ],
      "metadata": {
        "id": "VC72h0R0kkk6"
      },
      "execution_count": null,
      "outputs": []
    },
    {
      "cell_type": "markdown",
      "source": [
        "Pergunta 7: Qual é a saída do código a seguir?"
      ],
      "metadata": {
        "id": "ZO8skBX1knKd"
      }
    },
    {
      "cell_type": "code",
      "source": [
        "for i in range(0, 6, 3):\n",
        "    print(i)"
      ],
      "metadata": {
        "id": "gZuUECh4kpIG"
      },
      "execution_count": null,
      "outputs": []
    },
    {
      "cell_type": "markdown",
      "source": [
        "Pergunta 1: Qual é a saída do trecho de código?"
      ],
      "metadata": {
        "id": "thqvNTL-krrS"
      }
    },
    {
      "cell_type": "code",
      "source": [
        "x = 1\n",
        "y = 0\n",
        " \n",
        "z = ((x == y) and (x == y)) or not(x == y)\n",
        "print(not(z))\n",
        " \n"
      ],
      "metadata": {
        "id": "3Aw83oG7mK2H"
      },
      "execution_count": null,
      "outputs": []
    },
    {
      "cell_type": "markdown",
      "source": [
        "Pergunta 2: Qual é a saída do trecho de código?"
      ],
      "metadata": {
        "id": "7xjNb5i4mNHj"
      }
    },
    {
      "cell_type": "code",
      "source": [
        "x = 4\n",
        "y = 1\n",
        " \n",
        "a = x & y\n",
        "b = x | y\n",
        "c = ~x  # tricky!\n",
        "d = x ^ 5\n",
        "e = x >> 2\n",
        "f = x << 2\n",
        " \n",
        "print(a, b, c, d, e, f)\n",
        " \n"
      ],
      "metadata": {
        "colab": {
          "base_uri": "https://localhost:8080/"
        },
        "id": "ANlP1HJTmUvk",
        "outputId": "c90efca9-a200-4e43-a9ac-49d2cee02af9"
      },
      "execution_count": 1,
      "outputs": [
        {
          "output_type": "stream",
          "name": "stdout",
          "text": [
            "0 5 -5 1 1 16\n"
          ]
        }
      ]
    },
    {
      "cell_type": "markdown",
      "source": [
        "3.4.12 RESUMO DA SEÇÃO\n"
      ],
      "metadata": {
        "id": "gFxULgdrrZvt"
      }
    },
    {
      "cell_type": "markdown",
      "source": [
        "1. A lista é um tipo de dados em Python usado para armazenar vários objetos. É uma coleção ordenada e mutável de itens separados por vírgula entre colchetes, por exemplo:"
      ],
      "metadata": {
        "id": "faPdsVw4rcNa"
      }
    },
    {
      "cell_type": "code",
      "source": [
        "my_list = [1, None, True, \"eu sou um barbante\", 256, 0]\n",
        " \n"
      ],
      "metadata": {
        "id": "d8yUdv4orefa"
      },
      "execution_count": null,
      "outputs": []
    },
    {
      "cell_type": "markdown",
      "source": [
        "2. As listas podem ser indexadas e atualizadas, por exemplo:"
      ],
      "metadata": {
        "id": "JNshghZfrhLM"
      }
    },
    {
      "cell_type": "code",
      "source": [
        "my_list = [1, None, True, 'eu sou um barbante', 256, 0]\n",
        "print(my_list[3])  # outputs: eu sou um barbante\n",
        "print(my_list[-1])  # outputs: 0\n",
        " \n",
        "my_list[1] = '?'\n",
        "print(my_list)  # outputs: [1, '?', True, 'eu sou um barbante', 256, 0]\n",
        " \n",
        "my_list.insert(0, \"primeiro\")\n",
        "my_list.append(\"último\")\n",
        "print(my_list)  # outputs: ['primeiro', 1, '?', True, 'eu sou um barbante', 256, 0, 'último']\n",
        " \n"
      ],
      "metadata": {
        "id": "ukAnbMJprgYX"
      },
      "execution_count": null,
      "outputs": []
    },
    {
      "cell_type": "markdown",
      "source": [
        "3. As listas podem ser aninhadas, por exemplo:"
      ],
      "metadata": {
        "id": "via2DhsTrmlp"
      }
    },
    {
      "cell_type": "code",
      "source": [
        "my_list = [1, 'a', [\"lista\", 64, [0, 1], False]]\n",
        " \n"
      ],
      "metadata": {
        "id": "smSMBPGlro9n"
      },
      "execution_count": null,
      "outputs": []
    },
    {
      "cell_type": "markdown",
      "source": [
        "Você aprenderá mais sobre o aninhamento no módulo {{_globals._moduleNumber}}.7 - Por enquanto, queremos que você esteja ciente de que algo como isso também é possível."
      ],
      "metadata": {
        "id": "4Gvo84ryrrNR"
      }
    },
    {
      "cell_type": "markdown",
      "source": [
        "4. Os elementos e as listas podem ser excluídos, por exemplo:"
      ],
      "metadata": {
        "id": "h8gEnNpCrwKB"
      }
    },
    {
      "cell_type": "code",
      "source": [
        "my_list = [1, 2, 3, 4]\n",
        "del my_list[2]\n",
        "print(my_list)  # outputs: [1, 2, 4]\n",
        " \n",
        "del my_list  # exclui toda a lista\n",
        " \n"
      ],
      "metadata": {
        "id": "bKW7RQK6rqkl"
      },
      "execution_count": null,
      "outputs": []
    },
    {
      "cell_type": "markdown",
      "source": [
        "Novamente, você aprenderá mais sobre isso no módulo {{_globals._moduleNumber}}.6 - não se preocupe. Por enquanto, apenas tente experimentar o código acima e verifique como a mudança isso afeta a saída."
      ],
      "metadata": {
        "id": "P1bkEQk3r118"
      }
    },
    {
      "cell_type": "markdown",
      "source": [
        "5. As listas podem ser iteradas usando o loop for, por exemplo:"
      ],
      "metadata": {
        "id": "TeunlgETr4KA"
      }
    },
    {
      "cell_type": "code",
      "source": [
        "my_list = [\"branco\", \"roxo\", \"azul\", \"amarelo\", \"verde\"]\n",
        " \n",
        "for color in my_list:\n",
        "    print(color)\n",
        " \n"
      ],
      "metadata": {
        "id": "2k7FEbsgrqeU"
      },
      "execution_count": null,
      "outputs": []
    },
    {
      "cell_type": "markdown",
      "source": [
        "6. A função len() pode ser usada para verificar o comprimento da lista, por exemplo:"
      ],
      "metadata": {
        "id": "beiCEsU4r7d9"
      }
    },
    {
      "cell_type": "code",
      "source": [
        "my_list = [\"branco\", \"roxo\", \"azul\", \"amarelo\", \"verde\"]\n",
        "print(len(my_list))  # outputs 5\n",
        " \n",
        "del my_list[2]\n",
        "print(len(my_list))  # outputs 4\n",
        " \n"
      ],
      "metadata": {
        "id": "QC_XpINLr9a1"
      },
      "execution_count": null,
      "outputs": []
    },
    {
      "cell_type": "markdown",
      "source": [
        "7. Uma chamada de função típica tem a seguinte aparência: result = function(arg), enquanto uma chamada de método típico se parece com isso: result = data.method(arg)."
      ],
      "metadata": {
        "id": "wsJgwZhJr_TB"
      }
    },
    {
      "cell_type": "code",
      "source": [],
      "metadata": {
        "id": "aNIaIF7DsBvb"
      },
      "execution_count": null,
      "outputs": []
    },
    {
      "cell_type": "markdown",
      "source": [
        "3.4.13 TESTE DA SEÇÃO\n"
      ],
      "metadata": {
        "id": "CHcQGob0sF4i"
      }
    },
    {
      "cell_type": "markdown",
      "source": [
        "Pergunta 1: Qual é a saída do trecho de código?"
      ],
      "metadata": {
        "id": "NuEEWnuRsKn_"
      }
    },
    {
      "cell_type": "code",
      "source": [
        "lst = [1, 2, 3, 4, 5]\n",
        "lst.insert(1, 6)\n",
        "del lst[0]\n",
        "lst.append(1)\n",
        " \n",
        "print(lst)\n",
        " \n"
      ],
      "metadata": {
        "id": "85lIs9O-sG4r"
      },
      "execution_count": null,
      "outputs": []
    },
    {
      "cell_type": "markdown",
      "source": [
        "Pergunta 2: Qual é a saída do trecho de código?"
      ],
      "metadata": {
        "id": "W6aRVz-9sNF9"
      }
    },
    {
      "cell_type": "code",
      "source": [
        "lst = [1, 2, 3, 4, 5]\n",
        "lst_2 = []\n",
        "add = 0\n",
        " \n",
        "for number in lst:\n",
        "    add += number\n",
        "    lst_2.append(add)\n",
        " \n",
        "print(lst_2)\n",
        " \n"
      ],
      "metadata": {
        "id": "oWoz6LHAsNhV"
      },
      "execution_count": null,
      "outputs": []
    },
    {
      "cell_type": "markdown",
      "source": [
        "Pergunta 3: Qual é a saída do trecho de código?"
      ],
      "metadata": {
        "id": "QiVixXGGsM-o"
      }
    },
    {
      "cell_type": "code",
      "source": [
        "lst = []\n",
        "del lst\n",
        "print(lst)\n",
        " \n"
      ],
      "metadata": {
        "id": "nZLfujCtsTyT"
      },
      "execution_count": null,
      "outputs": []
    },
    {
      "cell_type": "markdown",
      "source": [
        "Pergunta 4: Qual é a saída do trecho de código?"
      ],
      "metadata": {
        "id": "oRhdzzSqsVWI"
      }
    },
    {
      "cell_type": "code",
      "source": [
        "lst = [1, [2, 3], 4]\n",
        "print(lst[1])\n",
        "print(len(lst))\n",
        " \n"
      ],
      "metadata": {
        "id": "oyWSzBI1sYn_"
      },
      "execution_count": null,
      "outputs": []
    },
    {
      "cell_type": "markdown",
      "source": [
        "3.5.4 RESUMO DA SEÇÃO\n"
      ],
      "metadata": {
        "id": "Li_0kjPus2ig"
      }
    },
    {
      "cell_type": "markdown",
      "source": [
        "1. Você pode usar o método sort() para classificar elementos de uma lista, por exemplo:"
      ],
      "metadata": {
        "id": "yn6qOV50s4Ve"
      }
    },
    {
      "cell_type": "code",
      "source": [
        "lst = [5, 3, 1, 2, 4]\n",
        "print(lst)\n",
        " \n",
        "lst.sort()\n",
        "print(lst)  # outputs: [1, 2, 3, 4, 5]\n",
        " \n"
      ],
      "metadata": {
        "id": "7X1yUhkWs6ga"
      },
      "execution_count": null,
      "outputs": []
    },
    {
      "cell_type": "markdown",
      "source": [
        "2. Há também um método de lista chamado revers(), que você pode usar para reverter a lista, por exemplo"
      ],
      "metadata": {
        "id": "IgA-EHA5s_Bz"
      }
    },
    {
      "cell_type": "code",
      "source": [
        "lst = [5, 3, 1, 2, 4]\n",
        "print(lst)\n",
        " \n",
        "lst.reverse()\n",
        "print(lst)  # outputs: [4, 2, 1, 3, 5]\n",
        " \n"
      ],
      "metadata": {
        "id": "JPkmNzBus8be"
      },
      "execution_count": null,
      "outputs": []
    },
    {
      "cell_type": "markdown",
      "source": [
        "3.5.5 TESTE DA SEÇÃO\n"
      ],
      "metadata": {
        "id": "E7IHDnzytB7J"
      }
    },
    {
      "cell_type": "markdown",
      "source": [
        "Pergunta 1: Qual é a saída do trecho de código?"
      ],
      "metadata": {
        "id": "AFQwHjXOtFLc"
      }
    },
    {
      "cell_type": "code",
      "source": [
        "lst = [\"D\", \"F\", \"A\", \"Z\"]\n",
        "lst.sort()\n",
        " \n",
        "print(lst)\n",
        " \n"
      ],
      "metadata": {
        "id": "fPDfn2SytGvT"
      },
      "execution_count": null,
      "outputs": []
    },
    {
      "cell_type": "markdown",
      "source": [
        "Pergunta 2: Qual é a saída do trecho de código?"
      ],
      "metadata": {
        "id": "hFYCk4KvtKZ5"
      }
    },
    {
      "cell_type": "code",
      "source": [
        "a = 3\n",
        "b = 1\n",
        "c = 2\n",
        " \n",
        "lst = [a, c, b]\n",
        "lst.sort()\n",
        " \n",
        "print(lst)\n",
        " \n"
      ],
      "metadata": {
        "id": "dEwwVJzTtIMm"
      },
      "execution_count": null,
      "outputs": []
    },
    {
      "cell_type": "markdown",
      "source": [
        "Pergunta 3: Qual é a saída do trecho de código?"
      ],
      "metadata": {
        "id": "XWe770mgtN2d"
      }
    },
    {
      "cell_type": "code",
      "source": [
        "a = \"A\"\n",
        "b = \"B\"\n",
        "c = \"C\"\n",
        "d = \" \"\n",
        " \n",
        "lst = [a, b, c, d]\n",
        "lst.reverse()\n",
        " \n",
        "print(lst)\n",
        " \n"
      ],
      "metadata": {
        "id": "XuUWC7JatP4z"
      },
      "execution_count": null,
      "outputs": []
    },
    {
      "cell_type": "code",
      "source": [
        "# Uma tabela de quatro colunas/quatro linhas ‒ uma matriz bidimensional (4x4)\n",
        " \n",
        "table = [[\":(\", \":)\", \":(\", \":)\"],\n",
        "         [\":)\", \":(\", \":)\", \":)\"],\n",
        "         [\":(\", \":)\", \":)\", \":(\"],\n",
        "         [\":)\", \":)\", \":)\", \":(\"]]\n",
        " \n",
        "print(table)\n",
        "print(table[0][0])  # outputs: ':('\n",
        "print(table[0][3])  # outputs: ':)'\n",
        " \n"
      ],
      "metadata": {
        "id": "xXN4Cxjqto93"
      },
      "execution_count": null,
      "outputs": []
    },
    {
      "cell_type": "code",
      "source": [
        "# Cubo - uma matriz tridimensional (3x3x3)\n",
        " \n",
        "cube = [[[':(', 'x', 'x'],\n",
        "         [':)', 'x', 'x'],\n",
        "         [':(', 'x', 'x']],\n",
        " \n",
        "        [[':)', 'x', 'x'],\n",
        "         [':(', 'x', 'x'],\n",
        "         [':)', 'x', 'x']],\n",
        " \n",
        "        [[':(', 'x', 'x'],\n",
        "         [':)', 'x', 'x'],\n",
        "         [':)', 'x', 'x']]]\n",
        " \n",
        "print(cube)\n",
        "print(cube[0][0][0])  # outputs: ':('\n",
        "print(cube[2][2][0])  # outputs: ':)'\n",
        " \n"
      ],
      "metadata": {
        "id": "MlqN8KbQtqM2"
      },
      "execution_count": null,
      "outputs": []
    }
  ]
}